{
  "cells": [
    {
      "cell_type": "code",
      "execution_count": 3,
      "metadata": {
        "id": "T_nC80yPXKp_",
        "colab": {
          "base_uri": "https://localhost:8080/"
        },
        "outputId": "b40b2b52-06d8-41af-e39f-aa4be1712602"
      },
      "outputs": [
        {
          "output_type": "stream",
          "name": "stdout",
          "text": [
            "[nltk_data] Downloading package punkt to /root/nltk_data...\n",
            "[nltk_data]   Package punkt is already up-to-date!\n"
          ]
        },
        {
          "output_type": "execute_result",
          "data": {
            "text/plain": [
              "True"
            ]
          },
          "metadata": {},
          "execution_count": 3
        }
      ],
      "source": [
        "# Loading data from csv file\n",
        "import pandas as pd\n",
        "import numpy as np\n",
        "import re\n",
        "from sklearn.metrics.pairwise import cosine_similarity\n",
        "from sklearn.feature_extraction.text import TfidfVectorizer\n",
        "import warnings\n",
        "\n",
        "import nltk\n",
        "from nltk.stem import PorterStemmer\n",
        "from nltk.tokenize import word_tokenize\n",
        "nltk.download('punkt')"
      ]
    },
    {
      "cell_type": "code",
      "execution_count": 4,
      "metadata": {
        "colab": {
          "base_uri": "https://localhost:8080/"
        },
        "id": "EL8Yl7qhXl07",
        "outputId": "e8422391-d82e-46f4-8356-1bc940312e80"
      },
      "outputs": [
        {
          "output_type": "stream",
          "name": "stdout",
          "text": [
            "Mounted at /content/gdrive\n"
          ]
        }
      ],
      "source": [
        "from google.colab import drive\n",
        "drive.mount('/content/gdrive')"
      ]
    },
    {
      "cell_type": "code",
      "execution_count": 5,
      "metadata": {
        "colab": {
          "base_uri": "https://localhost:8080/",
          "height": 112
        },
        "id": "A_dHmUD4XxYb",
        "outputId": "66d5c18b-3ba6-4dd3-82ae-472be3f1d9e3"
      },
      "outputs": [
        {
          "output_type": "execute_result",
          "data": {
            "text/plain": [
              "                                       name  \\\n",
              "0                                    Avatar   \n",
              "1  Pirates of the Caribbean: At World's End   \n",
              "\n",
              "                                              genres  \\\n",
              "0  [{\"id\": 28, \"name\": \"Action\"}, {\"id\": 12, \"nam...   \n",
              "1  [{\"id\": 12, \"name\": \"Adventure\"}, {\"id\": 14, \"...   \n",
              "\n",
              "                                            keywords  \\\n",
              "0  [{\"id\": 1463, \"name\": \"culture clash\"}, {\"id\":...   \n",
              "1  [{\"id\": 270, \"name\": \"ocean\"}, {\"id\": 726, \"na...   \n",
              "\n",
              "                                            overview  \n",
              "0  In the 22nd century, a paraplegic Marine is di...  \n",
              "1  Captain Barbossa, long believed to be dead, ha...  "
            ],
            "text/html": [
              "\n",
              "  <div id=\"df-ea6429ae-e897-47c9-ab7d-7c2656e74bc7\">\n",
              "    <div class=\"colab-df-container\">\n",
              "      <div>\n",
              "<style scoped>\n",
              "    .dataframe tbody tr th:only-of-type {\n",
              "        vertical-align: middle;\n",
              "    }\n",
              "\n",
              "    .dataframe tbody tr th {\n",
              "        vertical-align: top;\n",
              "    }\n",
              "\n",
              "    .dataframe thead th {\n",
              "        text-align: right;\n",
              "    }\n",
              "</style>\n",
              "<table border=\"1\" class=\"dataframe\">\n",
              "  <thead>\n",
              "    <tr style=\"text-align: right;\">\n",
              "      <th></th>\n",
              "      <th>name</th>\n",
              "      <th>genres</th>\n",
              "      <th>keywords</th>\n",
              "      <th>overview</th>\n",
              "    </tr>\n",
              "  </thead>\n",
              "  <tbody>\n",
              "    <tr>\n",
              "      <th>0</th>\n",
              "      <td>Avatar</td>\n",
              "      <td>[{\"id\": 28, \"name\": \"Action\"}, {\"id\": 12, \"nam...</td>\n",
              "      <td>[{\"id\": 1463, \"name\": \"culture clash\"}, {\"id\":...</td>\n",
              "      <td>In the 22nd century, a paraplegic Marine is di...</td>\n",
              "    </tr>\n",
              "    <tr>\n",
              "      <th>1</th>\n",
              "      <td>Pirates of the Caribbean: At World's End</td>\n",
              "      <td>[{\"id\": 12, \"name\": \"Adventure\"}, {\"id\": 14, \"...</td>\n",
              "      <td>[{\"id\": 270, \"name\": \"ocean\"}, {\"id\": 726, \"na...</td>\n",
              "      <td>Captain Barbossa, long believed to be dead, ha...</td>\n",
              "    </tr>\n",
              "  </tbody>\n",
              "</table>\n",
              "</div>\n",
              "      <button class=\"colab-df-convert\" onclick=\"convertToInteractive('df-ea6429ae-e897-47c9-ab7d-7c2656e74bc7')\"\n",
              "              title=\"Convert this dataframe to an interactive table.\"\n",
              "              style=\"display:none;\">\n",
              "        \n",
              "  <svg xmlns=\"http://www.w3.org/2000/svg\" height=\"24px\"viewBox=\"0 0 24 24\"\n",
              "       width=\"24px\">\n",
              "    <path d=\"M0 0h24v24H0V0z\" fill=\"none\"/>\n",
              "    <path d=\"M18.56 5.44l.94 2.06.94-2.06 2.06-.94-2.06-.94-.94-2.06-.94 2.06-2.06.94zm-11 1L8.5 8.5l.94-2.06 2.06-.94-2.06-.94L8.5 2.5l-.94 2.06-2.06.94zm10 10l.94 2.06.94-2.06 2.06-.94-2.06-.94-.94-2.06-.94 2.06-2.06.94z\"/><path d=\"M17.41 7.96l-1.37-1.37c-.4-.4-.92-.59-1.43-.59-.52 0-1.04.2-1.43.59L10.3 9.45l-7.72 7.72c-.78.78-.78 2.05 0 2.83L4 21.41c.39.39.9.59 1.41.59.51 0 1.02-.2 1.41-.59l7.78-7.78 2.81-2.81c.8-.78.8-2.07 0-2.86zM5.41 20L4 18.59l7.72-7.72 1.47 1.35L5.41 20z\"/>\n",
              "  </svg>\n",
              "      </button>\n",
              "      \n",
              "  <style>\n",
              "    .colab-df-container {\n",
              "      display:flex;\n",
              "      flex-wrap:wrap;\n",
              "      gap: 12px;\n",
              "    }\n",
              "\n",
              "    .colab-df-convert {\n",
              "      background-color: #E8F0FE;\n",
              "      border: none;\n",
              "      border-radius: 50%;\n",
              "      cursor: pointer;\n",
              "      display: none;\n",
              "      fill: #1967D2;\n",
              "      height: 32px;\n",
              "      padding: 0 0 0 0;\n",
              "      width: 32px;\n",
              "    }\n",
              "\n",
              "    .colab-df-convert:hover {\n",
              "      background-color: #E2EBFA;\n",
              "      box-shadow: 0px 1px 2px rgba(60, 64, 67, 0.3), 0px 1px 3px 1px rgba(60, 64, 67, 0.15);\n",
              "      fill: #174EA6;\n",
              "    }\n",
              "\n",
              "    [theme=dark] .colab-df-convert {\n",
              "      background-color: #3B4455;\n",
              "      fill: #D2E3FC;\n",
              "    }\n",
              "\n",
              "    [theme=dark] .colab-df-convert:hover {\n",
              "      background-color: #434B5C;\n",
              "      box-shadow: 0px 1px 3px 1px rgba(0, 0, 0, 0.15);\n",
              "      filter: drop-shadow(0px 1px 2px rgba(0, 0, 0, 0.3));\n",
              "      fill: #FFFFFF;\n",
              "    }\n",
              "  </style>\n",
              "\n",
              "      <script>\n",
              "        const buttonEl =\n",
              "          document.querySelector('#df-ea6429ae-e897-47c9-ab7d-7c2656e74bc7 button.colab-df-convert');\n",
              "        buttonEl.style.display =\n",
              "          google.colab.kernel.accessAllowed ? 'block' : 'none';\n",
              "\n",
              "        async function convertToInteractive(key) {\n",
              "          const element = document.querySelector('#df-ea6429ae-e897-47c9-ab7d-7c2656e74bc7');\n",
              "          const dataTable =\n",
              "            await google.colab.kernel.invokeFunction('convertToInteractive',\n",
              "                                                     [key], {});\n",
              "          if (!dataTable) return;\n",
              "\n",
              "          const docLinkHtml = 'Like what you see? Visit the ' +\n",
              "            '<a target=\"_blank\" href=https://colab.research.google.com/notebooks/data_table.ipynb>data table notebook</a>'\n",
              "            + ' to learn more about interactive tables.';\n",
              "          element.innerHTML = '';\n",
              "          dataTable['output_type'] = 'display_data';\n",
              "          await google.colab.output.renderOutput(dataTable, element);\n",
              "          const docLink = document.createElement('div');\n",
              "          docLink.innerHTML = docLinkHtml;\n",
              "          element.appendChild(docLink);\n",
              "        }\n",
              "      </script>\n",
              "    </div>\n",
              "  </div>\n",
              "  "
            ]
          },
          "metadata": {},
          "execution_count": 5
        }
      ],
      "source": [
        "movies=pd.read_csv(\"/content/gdrive/MyDrive/Colab Notebooks/Movie/tmdb_5000_movies.csv\")\n",
        "movies=movies[['title','genres','keywords','overview']]\n",
        "movies.rename(columns={'title':\"name\"},inplace=True)\n",
        "movies.head(2)"
      ]
    },
    {
      "cell_type": "code",
      "execution_count": 6,
      "metadata": {
        "colab": {
          "base_uri": "https://localhost:8080/",
          "height": 112
        },
        "id": "bOGz51ChdlUl",
        "outputId": "aa369f80-a66a-4193-803c-7de283b6288a"
      },
      "outputs": [
        {
          "output_type": "execute_result",
          "data": {
            "text/plain": [
              "      id                                      name  \\\n",
              "0  19995                                    Avatar   \n",
              "1    285  Pirates of the Caribbean: At World's End   \n",
              "\n",
              "                                                cast  \\\n",
              "0  [{\"cast_id\": 242, \"character\": \"Jake Sully\", \"...   \n",
              "1  [{\"cast_id\": 4, \"character\": \"Captain Jack Spa...   \n",
              "\n",
              "                                                crew  \n",
              "0  [{\"credit_id\": \"52fe48009251416c750aca23\", \"de...  \n",
              "1  [{\"credit_id\": \"52fe4232c3a36847f800b579\", \"de...  "
            ],
            "text/html": [
              "\n",
              "  <div id=\"df-f2e0ea51-5db4-4dba-ba52-2e7f7fd74302\">\n",
              "    <div class=\"colab-df-container\">\n",
              "      <div>\n",
              "<style scoped>\n",
              "    .dataframe tbody tr th:only-of-type {\n",
              "        vertical-align: middle;\n",
              "    }\n",
              "\n",
              "    .dataframe tbody tr th {\n",
              "        vertical-align: top;\n",
              "    }\n",
              "\n",
              "    .dataframe thead th {\n",
              "        text-align: right;\n",
              "    }\n",
              "</style>\n",
              "<table border=\"1\" class=\"dataframe\">\n",
              "  <thead>\n",
              "    <tr style=\"text-align: right;\">\n",
              "      <th></th>\n",
              "      <th>id</th>\n",
              "      <th>name</th>\n",
              "      <th>cast</th>\n",
              "      <th>crew</th>\n",
              "    </tr>\n",
              "  </thead>\n",
              "  <tbody>\n",
              "    <tr>\n",
              "      <th>0</th>\n",
              "      <td>19995</td>\n",
              "      <td>Avatar</td>\n",
              "      <td>[{\"cast_id\": 242, \"character\": \"Jake Sully\", \"...</td>\n",
              "      <td>[{\"credit_id\": \"52fe48009251416c750aca23\", \"de...</td>\n",
              "    </tr>\n",
              "    <tr>\n",
              "      <th>1</th>\n",
              "      <td>285</td>\n",
              "      <td>Pirates of the Caribbean: At World's End</td>\n",
              "      <td>[{\"cast_id\": 4, \"character\": \"Captain Jack Spa...</td>\n",
              "      <td>[{\"credit_id\": \"52fe4232c3a36847f800b579\", \"de...</td>\n",
              "    </tr>\n",
              "  </tbody>\n",
              "</table>\n",
              "</div>\n",
              "      <button class=\"colab-df-convert\" onclick=\"convertToInteractive('df-f2e0ea51-5db4-4dba-ba52-2e7f7fd74302')\"\n",
              "              title=\"Convert this dataframe to an interactive table.\"\n",
              "              style=\"display:none;\">\n",
              "        \n",
              "  <svg xmlns=\"http://www.w3.org/2000/svg\" height=\"24px\"viewBox=\"0 0 24 24\"\n",
              "       width=\"24px\">\n",
              "    <path d=\"M0 0h24v24H0V0z\" fill=\"none\"/>\n",
              "    <path d=\"M18.56 5.44l.94 2.06.94-2.06 2.06-.94-2.06-.94-.94-2.06-.94 2.06-2.06.94zm-11 1L8.5 8.5l.94-2.06 2.06-.94-2.06-.94L8.5 2.5l-.94 2.06-2.06.94zm10 10l.94 2.06.94-2.06 2.06-.94-2.06-.94-.94-2.06-.94 2.06-2.06.94z\"/><path d=\"M17.41 7.96l-1.37-1.37c-.4-.4-.92-.59-1.43-.59-.52 0-1.04.2-1.43.59L10.3 9.45l-7.72 7.72c-.78.78-.78 2.05 0 2.83L4 21.41c.39.39.9.59 1.41.59.51 0 1.02-.2 1.41-.59l7.78-7.78 2.81-2.81c.8-.78.8-2.07 0-2.86zM5.41 20L4 18.59l7.72-7.72 1.47 1.35L5.41 20z\"/>\n",
              "  </svg>\n",
              "      </button>\n",
              "      \n",
              "  <style>\n",
              "    .colab-df-container {\n",
              "      display:flex;\n",
              "      flex-wrap:wrap;\n",
              "      gap: 12px;\n",
              "    }\n",
              "\n",
              "    .colab-df-convert {\n",
              "      background-color: #E8F0FE;\n",
              "      border: none;\n",
              "      border-radius: 50%;\n",
              "      cursor: pointer;\n",
              "      display: none;\n",
              "      fill: #1967D2;\n",
              "      height: 32px;\n",
              "      padding: 0 0 0 0;\n",
              "      width: 32px;\n",
              "    }\n",
              "\n",
              "    .colab-df-convert:hover {\n",
              "      background-color: #E2EBFA;\n",
              "      box-shadow: 0px 1px 2px rgba(60, 64, 67, 0.3), 0px 1px 3px 1px rgba(60, 64, 67, 0.15);\n",
              "      fill: #174EA6;\n",
              "    }\n",
              "\n",
              "    [theme=dark] .colab-df-convert {\n",
              "      background-color: #3B4455;\n",
              "      fill: #D2E3FC;\n",
              "    }\n",
              "\n",
              "    [theme=dark] .colab-df-convert:hover {\n",
              "      background-color: #434B5C;\n",
              "      box-shadow: 0px 1px 3px 1px rgba(0, 0, 0, 0.15);\n",
              "      filter: drop-shadow(0px 1px 2px rgba(0, 0, 0, 0.3));\n",
              "      fill: #FFFFFF;\n",
              "    }\n",
              "  </style>\n",
              "\n",
              "      <script>\n",
              "        const buttonEl =\n",
              "          document.querySelector('#df-f2e0ea51-5db4-4dba-ba52-2e7f7fd74302 button.colab-df-convert');\n",
              "        buttonEl.style.display =\n",
              "          google.colab.kernel.accessAllowed ? 'block' : 'none';\n",
              "\n",
              "        async function convertToInteractive(key) {\n",
              "          const element = document.querySelector('#df-f2e0ea51-5db4-4dba-ba52-2e7f7fd74302');\n",
              "          const dataTable =\n",
              "            await google.colab.kernel.invokeFunction('convertToInteractive',\n",
              "                                                     [key], {});\n",
              "          if (!dataTable) return;\n",
              "\n",
              "          const docLinkHtml = 'Like what you see? Visit the ' +\n",
              "            '<a target=\"_blank\" href=https://colab.research.google.com/notebooks/data_table.ipynb>data table notebook</a>'\n",
              "            + ' to learn more about interactive tables.';\n",
              "          element.innerHTML = '';\n",
              "          dataTable['output_type'] = 'display_data';\n",
              "          await google.colab.output.renderOutput(dataTable, element);\n",
              "          const docLink = document.createElement('div');\n",
              "          docLink.innerHTML = docLinkHtml;\n",
              "          element.appendChild(docLink);\n",
              "        }\n",
              "      </script>\n",
              "    </div>\n",
              "  </div>\n",
              "  "
            ]
          },
          "metadata": {},
          "execution_count": 6
        }
      ],
      "source": [
        "credit=pd.read_csv(\"/content/gdrive/MyDrive/Colab Notebooks/Movie/tmdb_5000_credits.csv\")\n",
        "credit.rename(columns={'title':'name','movie_id':'id'},inplace=True)\n",
        "credit.head(2)"
      ]
    },
    {
      "cell_type": "code",
      "execution_count": 7,
      "metadata": {
        "colab": {
          "base_uri": "https://localhost:8080/"
        },
        "id": "LxvoqQK0ZrjR",
        "outputId": "016e100b-38b5-434f-dade-ba3923bf04dd"
      },
      "outputs": [
        {
          "output_type": "stream",
          "name": "stdout",
          "text": [
            "(4803, 4)\n",
            "(4803, 4)\n"
          ]
        }
      ],
      "source": [
        "print(movies.shape)\n",
        "print(credit.shape)"
      ]
    },
    {
      "cell_type": "markdown",
      "source": [
        "#Data Cleaning:"
      ],
      "metadata": {
        "id": "iYaLiKM5tzdF"
      }
    },
    {
      "cell_type": "code",
      "execution_count": 8,
      "metadata": {
        "id": "Rwu8vy1-Z_3k"
      },
      "outputs": [],
      "source": [
        "# Merging on \"name\" columns\n",
        "movies = movies.merge(credit,on='name')"
      ]
    },
    {
      "cell_type": "code",
      "execution_count": 9,
      "metadata": {
        "colab": {
          "base_uri": "https://localhost:8080/"
        },
        "id": "shnXWlVcfk0P",
        "outputId": "6a306c02-e4cc-4bcd-f7b3-f0d4cc6ee0fb"
      },
      "outputs": [
        {
          "output_type": "execute_result",
          "data": {
            "text/plain": [
              "(4809, 7)"
            ]
          },
          "metadata": {},
          "execution_count": 9
        }
      ],
      "source": [
        "movies.shape"
      ]
    },
    {
      "cell_type": "code",
      "execution_count": 10,
      "metadata": {
        "colab": {
          "base_uri": "https://localhost:8080/"
        },
        "id": "nI-Yix73smeA",
        "outputId": "e2b7ae11-a38a-4dc7-d1a6-4e676744002c"
      },
      "outputs": [
        {
          "output_type": "execute_result",
          "data": {
            "text/plain": [
              "0"
            ]
          },
          "metadata": {},
          "execution_count": 10
        }
      ],
      "source": [
        "#checking duplicate rows\n",
        "movies.duplicated().sum()"
      ]
    },
    {
      "cell_type": "code",
      "execution_count": 11,
      "metadata": {
        "colab": {
          "base_uri": "https://localhost:8080/"
        },
        "id": "r6yBxbS_iKGS",
        "outputId": "3eaf1c3b-b3f8-4680-b5f7-f3bc0d9875cc"
      },
      "outputs": [
        {
          "output_type": "execute_result",
          "data": {
            "text/plain": [
              "name        0\n",
              "genres      0\n",
              "keywords    0\n",
              "overview    3\n",
              "id          0\n",
              "cast        0\n",
              "crew        0\n",
              "dtype: int64"
            ]
          },
          "metadata": {},
          "execution_count": 11
        }
      ],
      "source": [
        "# checking null values in each column \n",
        "movies.isnull().sum()"
      ]
    },
    {
      "cell_type": "code",
      "execution_count": 12,
      "metadata": {
        "colab": {
          "base_uri": "https://localhost:8080/"
        },
        "id": "zpnvSs8jiw0_",
        "outputId": "eb16b12e-033c-4446-cfa2-f2b30b9ec085"
      },
      "outputs": [
        {
          "output_type": "execute_result",
          "data": {
            "text/plain": [
              "name        0\n",
              "genres      0\n",
              "keywords    0\n",
              "overview    0\n",
              "id          0\n",
              "cast        0\n",
              "crew        0\n",
              "dtype: int64"
            ]
          },
          "metadata": {},
          "execution_count": 12
        }
      ],
      "source": [
        "# dropping rows with NA values\n",
        "movies.dropna(inplace=True)\n",
        "movies.isnull().sum()"
      ]
    },
    {
      "cell_type": "code",
      "execution_count": 13,
      "metadata": {
        "colab": {
          "base_uri": "https://localhost:8080/",
          "height": 240
        },
        "id": "JcknJgv_loWr",
        "outputId": "5a6329b0-6105-4dd6-b984-67136bb34f13"
      },
      "outputs": [
        {
          "output_type": "execute_result",
          "data": {
            "text/plain": [
              "                        name  \\\n",
              "3255  Much Ado About Nothing   \n",
              "1917             Shark Night   \n",
              "2550  Not Another Teen Movie   \n",
              "\n",
              "                                                 genres  \\\n",
              "3255  [{\"id\": 18, \"name\": \"Drama\"}, {\"id\": 35, \"name...   \n",
              "1917  [{\"id\": 27, \"name\": \"Horror\"}, {\"id\": 53, \"nam...   \n",
              "2550                     [{\"id\": 35, \"name\": \"Comedy\"}]   \n",
              "\n",
              "                                               keywords  \\\n",
              "3255  [{\"id\": 497, \"name\": \"shakespeare\"}, {\"id\": 13...   \n",
              "1917  [{\"id\": 2988, \"name\": \"shark attack\"}, {\"id\": ...   \n",
              "2550  [{\"id\": 240, \"name\": \"underdog\"}, {\"id\": 2283,...   \n",
              "\n",
              "                                               overview     id  \\\n",
              "3255  In this Shakespearean farce, Hero and her groo...  11971   \n",
              "1917  A weekend at a lake house in the Louisiana Gul...  65055   \n",
              "2550  On a bet, a gridiron hero at John Hughes High ...  11397   \n",
              "\n",
              "                                                   cast  \\\n",
              "3255  [{\"cast_id\": 9, \"character\": \"Benedikt\", \"cred...   \n",
              "1917  [{\"cast_id\": 2, \"character\": \"Sara Palski\", \"c...   \n",
              "2550  [{\"cast_id\": 11, \"character\": \"Janey Briggs\", ...   \n",
              "\n",
              "                                                   crew  \n",
              "3255  [{\"credit_id\": \"52fe44ad9251416c7503d12b\", \"de...  \n",
              "1917  [{\"credit_id\": \"52fe46fac3a368484e0ae759\", \"de...  \n",
              "2550  [{\"credit_id\": \"58c2e4269251417326000f9e\", \"de...  "
            ],
            "text/html": [
              "\n",
              "  <div id=\"df-9b58d1d6-f6b3-49e2-bda6-e0ff3aebd10c\">\n",
              "    <div class=\"colab-df-container\">\n",
              "      <div>\n",
              "<style scoped>\n",
              "    .dataframe tbody tr th:only-of-type {\n",
              "        vertical-align: middle;\n",
              "    }\n",
              "\n",
              "    .dataframe tbody tr th {\n",
              "        vertical-align: top;\n",
              "    }\n",
              "\n",
              "    .dataframe thead th {\n",
              "        text-align: right;\n",
              "    }\n",
              "</style>\n",
              "<table border=\"1\" class=\"dataframe\">\n",
              "  <thead>\n",
              "    <tr style=\"text-align: right;\">\n",
              "      <th></th>\n",
              "      <th>name</th>\n",
              "      <th>genres</th>\n",
              "      <th>keywords</th>\n",
              "      <th>overview</th>\n",
              "      <th>id</th>\n",
              "      <th>cast</th>\n",
              "      <th>crew</th>\n",
              "    </tr>\n",
              "  </thead>\n",
              "  <tbody>\n",
              "    <tr>\n",
              "      <th>3255</th>\n",
              "      <td>Much Ado About Nothing</td>\n",
              "      <td>[{\"id\": 18, \"name\": \"Drama\"}, {\"id\": 35, \"name...</td>\n",
              "      <td>[{\"id\": 497, \"name\": \"shakespeare\"}, {\"id\": 13...</td>\n",
              "      <td>In this Shakespearean farce, Hero and her groo...</td>\n",
              "      <td>11971</td>\n",
              "      <td>[{\"cast_id\": 9, \"character\": \"Benedikt\", \"cred...</td>\n",
              "      <td>[{\"credit_id\": \"52fe44ad9251416c7503d12b\", \"de...</td>\n",
              "    </tr>\n",
              "    <tr>\n",
              "      <th>1917</th>\n",
              "      <td>Shark Night</td>\n",
              "      <td>[{\"id\": 27, \"name\": \"Horror\"}, {\"id\": 53, \"nam...</td>\n",
              "      <td>[{\"id\": 2988, \"name\": \"shark attack\"}, {\"id\": ...</td>\n",
              "      <td>A weekend at a lake house in the Louisiana Gul...</td>\n",
              "      <td>65055</td>\n",
              "      <td>[{\"cast_id\": 2, \"character\": \"Sara Palski\", \"c...</td>\n",
              "      <td>[{\"credit_id\": \"52fe46fac3a368484e0ae759\", \"de...</td>\n",
              "    </tr>\n",
              "    <tr>\n",
              "      <th>2550</th>\n",
              "      <td>Not Another Teen Movie</td>\n",
              "      <td>[{\"id\": 35, \"name\": \"Comedy\"}]</td>\n",
              "      <td>[{\"id\": 240, \"name\": \"underdog\"}, {\"id\": 2283,...</td>\n",
              "      <td>On a bet, a gridiron hero at John Hughes High ...</td>\n",
              "      <td>11397</td>\n",
              "      <td>[{\"cast_id\": 11, \"character\": \"Janey Briggs\", ...</td>\n",
              "      <td>[{\"credit_id\": \"58c2e4269251417326000f9e\", \"de...</td>\n",
              "    </tr>\n",
              "  </tbody>\n",
              "</table>\n",
              "</div>\n",
              "      <button class=\"colab-df-convert\" onclick=\"convertToInteractive('df-9b58d1d6-f6b3-49e2-bda6-e0ff3aebd10c')\"\n",
              "              title=\"Convert this dataframe to an interactive table.\"\n",
              "              style=\"display:none;\">\n",
              "        \n",
              "  <svg xmlns=\"http://www.w3.org/2000/svg\" height=\"24px\"viewBox=\"0 0 24 24\"\n",
              "       width=\"24px\">\n",
              "    <path d=\"M0 0h24v24H0V0z\" fill=\"none\"/>\n",
              "    <path d=\"M18.56 5.44l.94 2.06.94-2.06 2.06-.94-2.06-.94-.94-2.06-.94 2.06-2.06.94zm-11 1L8.5 8.5l.94-2.06 2.06-.94-2.06-.94L8.5 2.5l-.94 2.06-2.06.94zm10 10l.94 2.06.94-2.06 2.06-.94-2.06-.94-.94-2.06-.94 2.06-2.06.94z\"/><path d=\"M17.41 7.96l-1.37-1.37c-.4-.4-.92-.59-1.43-.59-.52 0-1.04.2-1.43.59L10.3 9.45l-7.72 7.72c-.78.78-.78 2.05 0 2.83L4 21.41c.39.39.9.59 1.41.59.51 0 1.02-.2 1.41-.59l7.78-7.78 2.81-2.81c.8-.78.8-2.07 0-2.86zM5.41 20L4 18.59l7.72-7.72 1.47 1.35L5.41 20z\"/>\n",
              "  </svg>\n",
              "      </button>\n",
              "      \n",
              "  <style>\n",
              "    .colab-df-container {\n",
              "      display:flex;\n",
              "      flex-wrap:wrap;\n",
              "      gap: 12px;\n",
              "    }\n",
              "\n",
              "    .colab-df-convert {\n",
              "      background-color: #E8F0FE;\n",
              "      border: none;\n",
              "      border-radius: 50%;\n",
              "      cursor: pointer;\n",
              "      display: none;\n",
              "      fill: #1967D2;\n",
              "      height: 32px;\n",
              "      padding: 0 0 0 0;\n",
              "      width: 32px;\n",
              "    }\n",
              "\n",
              "    .colab-df-convert:hover {\n",
              "      background-color: #E2EBFA;\n",
              "      box-shadow: 0px 1px 2px rgba(60, 64, 67, 0.3), 0px 1px 3px 1px rgba(60, 64, 67, 0.15);\n",
              "      fill: #174EA6;\n",
              "    }\n",
              "\n",
              "    [theme=dark] .colab-df-convert {\n",
              "      background-color: #3B4455;\n",
              "      fill: #D2E3FC;\n",
              "    }\n",
              "\n",
              "    [theme=dark] .colab-df-convert:hover {\n",
              "      background-color: #434B5C;\n",
              "      box-shadow: 0px 1px 3px 1px rgba(0, 0, 0, 0.15);\n",
              "      filter: drop-shadow(0px 1px 2px rgba(0, 0, 0, 0.3));\n",
              "      fill: #FFFFFF;\n",
              "    }\n",
              "  </style>\n",
              "\n",
              "      <script>\n",
              "        const buttonEl =\n",
              "          document.querySelector('#df-9b58d1d6-f6b3-49e2-bda6-e0ff3aebd10c button.colab-df-convert');\n",
              "        buttonEl.style.display =\n",
              "          google.colab.kernel.accessAllowed ? 'block' : 'none';\n",
              "\n",
              "        async function convertToInteractive(key) {\n",
              "          const element = document.querySelector('#df-9b58d1d6-f6b3-49e2-bda6-e0ff3aebd10c');\n",
              "          const dataTable =\n",
              "            await google.colab.kernel.invokeFunction('convertToInteractive',\n",
              "                                                     [key], {});\n",
              "          if (!dataTable) return;\n",
              "\n",
              "          const docLinkHtml = 'Like what you see? Visit the ' +\n",
              "            '<a target=\"_blank\" href=https://colab.research.google.com/notebooks/data_table.ipynb>data table notebook</a>'\n",
              "            + ' to learn more about interactive tables.';\n",
              "          element.innerHTML = '';\n",
              "          dataTable['output_type'] = 'display_data';\n",
              "          await google.colab.output.renderOutput(dataTable, element);\n",
              "          const docLink = document.createElement('div');\n",
              "          docLink.innerHTML = docLinkHtml;\n",
              "          element.appendChild(docLink);\n",
              "        }\n",
              "      </script>\n",
              "    </div>\n",
              "  </div>\n",
              "  "
            ]
          },
          "metadata": {},
          "execution_count": 13
        }
      ],
      "source": [
        "movies.sample(3)"
      ]
    },
    {
      "cell_type": "markdown",
      "metadata": {
        "id": "Ll1k8f2QtEyf"
      },
      "source": [
        "# Extracting generes keywords cast and crew"
      ]
    },
    {
      "cell_type": "code",
      "execution_count": 14,
      "metadata": {
        "id": "7RruZ_7C6eP5"
      },
      "outputs": [],
      "source": [
        "import ast"
      ]
    },
    {
      "cell_type": "code",
      "execution_count": 15,
      "metadata": {
        "id": "PLpfrF9UWlWd"
      },
      "outputs": [],
      "source": [
        "def _help(lst,val):# val=genres,keyword,actor,director\n",
        "  genres=[]\n",
        "  keywords=[]\n",
        "  director=[]\n",
        "  actor=[]\n",
        "  #-------------------------------------------------------\n",
        "  if val==\"actor\":\n",
        "    for dic in lst[0:3]:\n",
        "      actor.append(dic[\"name\"].lower().replace(\" \",\"\"))\n",
        "    return actor\n",
        "  else:\n",
        "    for dic in lst:\n",
        "      #--------------------genres-------------------------\n",
        "      if val==\"genres\":\n",
        "        genres.append(dic[\"name\"].lower().replace(\" \",\"\"))\n",
        "      #------------------Keywords---------------------------\n",
        "      elif val==\"keyword\":\n",
        "        keywords.append(dic[\"name\"].lower().replace(\" \",\"\"))\n",
        "      #-----------------crew----------------------------------\n",
        "      elif val==\"director\":\n",
        "        if dic[\"job\"]==\"Director\":\n",
        "          director.append(dic[\"name\"].lower().replace(\" \",\"\"))\n",
        "  #-----------------------------------------------------------\n",
        "  if val==\"genres\":\n",
        "    return genres\n",
        "  elif val==\"keyword\":\n",
        "    return keywords\n",
        "  elif val==\"director\":\n",
        "    return director"
      ]
    },
    {
      "cell_type": "code",
      "execution_count": 16,
      "metadata": {
        "id": "0y83QNcSKrpf"
      },
      "outputs": [],
      "source": [
        "def tag(genres,keyword,cast,crew,overview):\n",
        "  rows=[]\n",
        "  # which runs on genres,keywords,cast and crew\n",
        "  for i in range(len(genres)):\n",
        "    temp=overview[i].lower()\n",
        "    #-----------------genres-------------\n",
        "    gen=ast.literal_eval(genres[i])\n",
        "    A=_help(gen,\"genres\")\n",
        "    temp=temp+\" \".join(A)+\" \"\n",
        "    #---------------Keyword---------------\n",
        "    key=ast.literal_eval(keyword[i])\n",
        "    B=_help(key,\"keyword\")\n",
        "    temp=temp+\" \".join(B)+\" \"\n",
        "    #--------------cast---------------\n",
        "    cst=ast.literal_eval(cast[i])\n",
        "    C=_help(cst,\"actor\")\n",
        "    temp=temp+\" \".join(C)+\" \"\n",
        "    #----------------Crew----------------\n",
        "    cre=ast.literal_eval(crew[i])\n",
        "    D=_help(cre,\"director\")\n",
        "    temp=temp+\" \".join(D)+\"\"\n",
        "    #---------------------------------------\n",
        "    #removing all special characters\n",
        "    rows.append(re.sub(r\"\\W+|_\", \" \", temp))\n",
        "    del temp,A,B,C,D,gen,key,cst,cre\n",
        "  return np.array(rows)"
      ]
    },
    {
      "cell_type": "code",
      "execution_count": 17,
      "metadata": {
        "id": "3rbi3enc3YMC",
        "colab": {
          "base_uri": "https://localhost:8080/",
          "height": 112
        },
        "outputId": "416f72e0-f9d6-4dc6-e9d3-1953d1e8f48e"
      },
      "outputs": [
        {
          "output_type": "execute_result",
          "data": {
            "text/plain": [
              "                                       name     id  \\\n",
              "0                                    Avatar  19995   \n",
              "1  Pirates of the Caribbean: At World's End    285   \n",
              "\n",
              "                                                Tags  \n",
              "0  in the 22nd century a paraplegic marine is dis...  \n",
              "1  captain barbossa long believed to be dead has ...  "
            ],
            "text/html": [
              "\n",
              "  <div id=\"df-d33de9be-a848-4b42-8475-ac8dae19ef31\">\n",
              "    <div class=\"colab-df-container\">\n",
              "      <div>\n",
              "<style scoped>\n",
              "    .dataframe tbody tr th:only-of-type {\n",
              "        vertical-align: middle;\n",
              "    }\n",
              "\n",
              "    .dataframe tbody tr th {\n",
              "        vertical-align: top;\n",
              "    }\n",
              "\n",
              "    .dataframe thead th {\n",
              "        text-align: right;\n",
              "    }\n",
              "</style>\n",
              "<table border=\"1\" class=\"dataframe\">\n",
              "  <thead>\n",
              "    <tr style=\"text-align: right;\">\n",
              "      <th></th>\n",
              "      <th>name</th>\n",
              "      <th>id</th>\n",
              "      <th>Tags</th>\n",
              "    </tr>\n",
              "  </thead>\n",
              "  <tbody>\n",
              "    <tr>\n",
              "      <th>0</th>\n",
              "      <td>Avatar</td>\n",
              "      <td>19995</td>\n",
              "      <td>in the 22nd century a paraplegic marine is dis...</td>\n",
              "    </tr>\n",
              "    <tr>\n",
              "      <th>1</th>\n",
              "      <td>Pirates of the Caribbean: At World's End</td>\n",
              "      <td>285</td>\n",
              "      <td>captain barbossa long believed to be dead has ...</td>\n",
              "    </tr>\n",
              "  </tbody>\n",
              "</table>\n",
              "</div>\n",
              "      <button class=\"colab-df-convert\" onclick=\"convertToInteractive('df-d33de9be-a848-4b42-8475-ac8dae19ef31')\"\n",
              "              title=\"Convert this dataframe to an interactive table.\"\n",
              "              style=\"display:none;\">\n",
              "        \n",
              "  <svg xmlns=\"http://www.w3.org/2000/svg\" height=\"24px\"viewBox=\"0 0 24 24\"\n",
              "       width=\"24px\">\n",
              "    <path d=\"M0 0h24v24H0V0z\" fill=\"none\"/>\n",
              "    <path d=\"M18.56 5.44l.94 2.06.94-2.06 2.06-.94-2.06-.94-.94-2.06-.94 2.06-2.06.94zm-11 1L8.5 8.5l.94-2.06 2.06-.94-2.06-.94L8.5 2.5l-.94 2.06-2.06.94zm10 10l.94 2.06.94-2.06 2.06-.94-2.06-.94-.94-2.06-.94 2.06-2.06.94z\"/><path d=\"M17.41 7.96l-1.37-1.37c-.4-.4-.92-.59-1.43-.59-.52 0-1.04.2-1.43.59L10.3 9.45l-7.72 7.72c-.78.78-.78 2.05 0 2.83L4 21.41c.39.39.9.59 1.41.59.51 0 1.02-.2 1.41-.59l7.78-7.78 2.81-2.81c.8-.78.8-2.07 0-2.86zM5.41 20L4 18.59l7.72-7.72 1.47 1.35L5.41 20z\"/>\n",
              "  </svg>\n",
              "      </button>\n",
              "      \n",
              "  <style>\n",
              "    .colab-df-container {\n",
              "      display:flex;\n",
              "      flex-wrap:wrap;\n",
              "      gap: 12px;\n",
              "    }\n",
              "\n",
              "    .colab-df-convert {\n",
              "      background-color: #E8F0FE;\n",
              "      border: none;\n",
              "      border-radius: 50%;\n",
              "      cursor: pointer;\n",
              "      display: none;\n",
              "      fill: #1967D2;\n",
              "      height: 32px;\n",
              "      padding: 0 0 0 0;\n",
              "      width: 32px;\n",
              "    }\n",
              "\n",
              "    .colab-df-convert:hover {\n",
              "      background-color: #E2EBFA;\n",
              "      box-shadow: 0px 1px 2px rgba(60, 64, 67, 0.3), 0px 1px 3px 1px rgba(60, 64, 67, 0.15);\n",
              "      fill: #174EA6;\n",
              "    }\n",
              "\n",
              "    [theme=dark] .colab-df-convert {\n",
              "      background-color: #3B4455;\n",
              "      fill: #D2E3FC;\n",
              "    }\n",
              "\n",
              "    [theme=dark] .colab-df-convert:hover {\n",
              "      background-color: #434B5C;\n",
              "      box-shadow: 0px 1px 3px 1px rgba(0, 0, 0, 0.15);\n",
              "      filter: drop-shadow(0px 1px 2px rgba(0, 0, 0, 0.3));\n",
              "      fill: #FFFFFF;\n",
              "    }\n",
              "  </style>\n",
              "\n",
              "      <script>\n",
              "        const buttonEl =\n",
              "          document.querySelector('#df-d33de9be-a848-4b42-8475-ac8dae19ef31 button.colab-df-convert');\n",
              "        buttonEl.style.display =\n",
              "          google.colab.kernel.accessAllowed ? 'block' : 'none';\n",
              "\n",
              "        async function convertToInteractive(key) {\n",
              "          const element = document.querySelector('#df-d33de9be-a848-4b42-8475-ac8dae19ef31');\n",
              "          const dataTable =\n",
              "            await google.colab.kernel.invokeFunction('convertToInteractive',\n",
              "                                                     [key], {});\n",
              "          if (!dataTable) return;\n",
              "\n",
              "          const docLinkHtml = 'Like what you see? Visit the ' +\n",
              "            '<a target=\"_blank\" href=https://colab.research.google.com/notebooks/data_table.ipynb>data table notebook</a>'\n",
              "            + ' to learn more about interactive tables.';\n",
              "          element.innerHTML = '';\n",
              "          dataTable['output_type'] = 'display_data';\n",
              "          await google.colab.output.renderOutput(dataTable, element);\n",
              "          const docLink = document.createElement('div');\n",
              "          docLink.innerHTML = docLinkHtml;\n",
              "          element.appendChild(docLink);\n",
              "        }\n",
              "      </script>\n",
              "    </div>\n",
              "  </div>\n",
              "  "
            ]
          },
          "metadata": {},
          "execution_count": 17
        }
      ],
      "source": [
        "#calling Tag() function that returns the numpy array that contains \"numpy_strings\"\n",
        "X=tag(movies.genres.values,movies.keywords.values,movies.cast.values,movies.crew.values,movies.overview.values)\n",
        "\n",
        "# Adding \"X\" as column named \"Tag\", to movies DataFrame\n",
        "movies[\"Tags\"]=X\n",
        "\n",
        "# Dropping columns [genres', 'keywords', 'overview','cast','crew']\n",
        "movies.drop(columns=['genres', 'keywords', 'overview','cast','crew'],inplace=True)\n",
        "movies.head(2)"
      ]
    },
    {
      "cell_type": "markdown",
      "source": [
        "# converting \"Tags\",to Vecotors, using TFIDF\n"
      ],
      "metadata": {
        "id": "q38wfLYfBZMS"
      }
    },
    {
      "cell_type": "markdown",
      "source": [
        "**Performing Stemming, before convering into vectors**"
      ],
      "metadata": {
        "id": "VA32FfrGBxcR"
      }
    },
    {
      "cell_type": "code",
      "source": [
        "def stemmer(tags):\n",
        "  PS=PorterStemmer()\n",
        "  rows=[]\n",
        "  for sen in tags:\n",
        "    #---------------------\n",
        "    lst=word_tokenize(sen)\n",
        "    for i in range(len(lst)):\n",
        "      lst[i]=PS.stem(lst[i])\n",
        "    rows.append((\" \").join(lst))\n",
        "    del lst\n",
        "  return np.array(rows)  "
      ],
      "metadata": {
        "id": "z1vwmLouCKkq"
      },
      "execution_count": 18,
      "outputs": []
    },
    {
      "cell_type": "code",
      "source": [
        "# now, X is stemmed\n",
        "X=stemmer(movies.Tags)"
      ],
      "metadata": {
        "id": "m1pP5tXuVtO2"
      },
      "execution_count": 19,
      "outputs": []
    },
    {
      "cell_type": "markdown",
      "source": [
        "**TF IDF**"
      ],
      "metadata": {
        "id": "uf-zLf9ThrYU"
      }
    },
    {
      "cell_type": "code",
      "source": [
        "X_vec=TfidfVectorizer(max_features=5000,stop_words='english',ngram_range=(1,1),min_df=10)\n",
        "data=X_vec.fit_transform(X)"
      ],
      "metadata": {
        "id": "IH29McJyiDvw"
      },
      "execution_count": 20,
      "outputs": []
    },
    {
      "cell_type": "code",
      "source": [
        "# Feature Names\n",
        "#X_vec.get_feature_names_out()"
      ],
      "metadata": {
        "id": "KGkMKXcAkq13"
      },
      "execution_count": 21,
      "outputs": []
    },
    {
      "cell_type": "code",
      "source": [
        "X_vec.idf_"
      ],
      "metadata": {
        "colab": {
          "base_uri": "https://localhost:8080/"
        },
        "id": "FCwoy6JNGwn0",
        "outputId": "5455c066-c9f0-48bb-f6b6-f226b1dadf4f"
      },
      "execution_count": 22,
      "outputs": [
        {
          "output_type": "execute_result",
          "data": {
            "text/plain": [
              "array([5.7642564 , 5.81426682, 6.14562396, ..., 6.99292182, 7.0799332 ,\n",
              "       6.83877114])"
            ]
          },
          "metadata": {},
          "execution_count": 22
        }
      ]
    },
    {
      "cell_type": "code",
      "source": [
        "len(X_vec.get_feature_names_out())"
      ],
      "metadata": {
        "id": "LGAcdkmtvLn7",
        "colab": {
          "base_uri": "https://localhost:8080/"
        },
        "outputId": "968df5a1-853d-48c5-aa66-f4e6485bac6d"
      },
      "execution_count": 23,
      "outputs": [
        {
          "output_type": "execute_result",
          "data": {
            "text/plain": [
              "3292"
            ]
          },
          "metadata": {},
          "execution_count": 23
        }
      ]
    },
    {
      "cell_type": "markdown",
      "source": [
        "**Calculating Cosine Similarity**"
      ],
      "metadata": {
        "id": "gUAfvAp6nFtQ"
      }
    },
    {
      "cell_type": "code",
      "source": [
        "CS=cosine_similarity(data)"
      ],
      "metadata": {
        "id": "DEJ0BvuPnSPW"
      },
      "execution_count": 24,
      "outputs": []
    },
    {
      "cell_type": "code",
      "source": [
        "CS.shape"
      ],
      "metadata": {
        "id": "ghJGKCIinjAn",
        "colab": {
          "base_uri": "https://localhost:8080/"
        },
        "outputId": "0f2b4c0e-54aa-4bee-d7c2-fbaff16cb53b"
      },
      "execution_count": 25,
      "outputs": [
        {
          "output_type": "execute_result",
          "data": {
            "text/plain": [
              "(4806, 4806)"
            ]
          },
          "metadata": {},
          "execution_count": 25
        }
      ]
    },
    {
      "cell_type": "code",
      "source": [
        "CS[0]"
      ],
      "metadata": {
        "id": "QXoaOQ0gpKLf",
        "colab": {
          "base_uri": "https://localhost:8080/"
        },
        "outputId": "737a5186-8554-4676-cde2-4cabc1d6e77e"
      },
      "execution_count": 26,
      "outputs": [
        {
          "output_type": "execute_result",
          "data": {
            "text/plain": [
              "array([1.        , 0.02588031, 0.03502353, ..., 0.05077461, 0.00629113,\n",
              "       0.        ])"
            ]
          },
          "metadata": {},
          "execution_count": 26
        }
      ]
    },
    {
      "cell_type": "code",
      "source": [
        "len(CS[0])"
      ],
      "metadata": {
        "id": "ijMkd8U-pB2U",
        "colab": {
          "base_uri": "https://localhost:8080/"
        },
        "outputId": "ec84cf67-2ad6-4af5-e52c-16be035cf097"
      },
      "execution_count": 27,
      "outputs": [
        {
          "output_type": "execute_result",
          "data": {
            "text/plain": [
              "4806"
            ]
          },
          "metadata": {},
          "execution_count": 27
        }
      ]
    },
    {
      "cell_type": "markdown",
      "source": [
        "**Movie Recommender**"
      ],
      "metadata": {
        "id": "ZSAn5Ep0nryo"
      }
    },
    {
      "cell_type": "code",
      "source": [
        "import random"
      ],
      "metadata": {
        "id": "n735ZjkFNOZv"
      },
      "execution_count": 28,
      "outputs": []
    },
    {
      "cell_type": "code",
      "source": [
        "def recommend_movie(movie_name):\n",
        "  idx=movies[movies.name==movie_name].index[0]\n",
        "  temp=np.argsort(CS[idx])[::-1][1:6]\n",
        "  #print(CS[0][temp])\n",
        "  #print(\"-\"*40)\n",
        "  print(\"#. \"+movie_name)\n",
        "  print(\"5 recommended movies below:\")\n",
        "  for i in temp:\n",
        "    print(movies[\"name\"].iloc[i])\n",
        "  print(\"-\"*40)"
      ],
      "metadata": {
        "id": "ZdoEnqhgwbwP"
      },
      "execution_count": 29,
      "outputs": []
    },
    {
      "cell_type": "markdown",
      "source": [
        "# recommending Harry Potter movies to check"
      ],
      "metadata": {
        "id": "3LFgJVqLjL1_"
      }
    },
    {
      "cell_type": "code",
      "source": [
        "recommend_movie(\"Harry Potter and the Philosopher's Stone\")"
      ],
      "metadata": {
        "id": "z9bqN_O8OUSx",
        "colab": {
          "base_uri": "https://localhost:8080/"
        },
        "outputId": "39541343-e4c5-4847-cd5b-0b6bd55b704a"
      },
      "execution_count": 30,
      "outputs": [
        {
          "output_type": "stream",
          "name": "stdout",
          "text": [
            "#. Harry Potter and the Philosopher's Stone\n",
            "5 recommended movies below:\n",
            "Harry Potter and the Goblet of Fire\n",
            "Harry Potter and the Chamber of Secrets\n",
            "Harry Potter and the Half-Blood Prince\n",
            "Harry Potter and the Order of the Phoenix\n",
            "Harry Potter and the Prisoner of Azkaban\n",
            "----------------------------------------\n"
          ]
        }
      ]
    },
    {
      "cell_type": "markdown",
      "source": [
        "# Recommending 5 randomly choosen movies"
      ],
      "metadata": {
        "id": "M1TZ2XOzjbxD"
      }
    },
    {
      "cell_type": "code",
      "source": [
        "r=random.sample(range(0,len(list(movies.name))),5)\n",
        "for idx in r:\n",
        "  recommend_movie(list(movies.name)[idx])"
      ],
      "metadata": {
        "id": "MMbdBJrlyf2X",
        "colab": {
          "base_uri": "https://localhost:8080/"
        },
        "outputId": "6c02cc09-6342-4897-ff7e-8da4df08f862"
      },
      "execution_count": 39,
      "outputs": [
        {
          "output_type": "stream",
          "name": "stdout",
          "text": [
            "#. Departure\n",
            "5 recommended movies below:\n",
            "This Is It\n",
            "Cloudy with a Chance of Meatballs\n",
            "Cloudy with a Chance of Meatballs 2\n",
            "The Last Waltz\n",
            "Foodfight!\n",
            "----------------------------------------\n",
            "#. Head of State\n",
            "5 recommended movies below:\n",
            "I Think I Love My Wife\n",
            "Swing Vote\n",
            "Top Five\n",
            "Down to Earth\n",
            "Undercover Brother\n",
            "----------------------------------------\n",
            "#. Walter\n",
            "5 recommended movies below:\n",
            "This Is It\n",
            "Fame\n",
            "Glee: The Concert Movie\n",
            "Scott Walker: 30 Century Man\n",
            "Masked and Anonymous\n",
            "----------------------------------------\n",
            "#. The Bridges of Madison County\n",
            "5 recommended movies below:\n",
            "A Walk on the Moon\n",
            "Fur: An Imaginary Portrait of Diane Arbus\n",
            "Closer\n",
            "Far from Heaven\n",
            "Flags of Our Fathers\n",
            "----------------------------------------\n",
            "#. Gangster's Paradise: Jerusalema\n",
            "5 recommended movies below:\n",
            "Frenzy\n",
            "Drowning Mona\n",
            "Gone Girl\n",
            "Jack Reacher\n",
            "Sea of Love\n",
            "----------------------------------------\n"
          ]
        }
      ]
    },
    {
      "cell_type": "code",
      "source": [
        ""
      ],
      "metadata": {
        "id": "dSWDjnq0yeR4"
      },
      "execution_count": 31,
      "outputs": []
    },
    {
      "cell_type": "code",
      "source": [
        ""
      ],
      "metadata": {
        "id": "QfnTnXmrPDAH"
      },
      "execution_count": 31,
      "outputs": []
    },
    {
      "cell_type": "code",
      "source": [
        ""
      ],
      "metadata": {
        "id": "btbDxo1qjV-p"
      },
      "execution_count": 31,
      "outputs": []
    }
  ],
  "metadata": {
    "colab": {
      "name": "Movie Recommender system.ipynb",
      "provenance": [],
      "collapsed_sections": []
    },
    "kernelspec": {
      "display_name": "Python 3",
      "name": "python3"
    },
    "language_info": {
      "name": "python"
    }
  },
  "nbformat": 4,
  "nbformat_minor": 0
}